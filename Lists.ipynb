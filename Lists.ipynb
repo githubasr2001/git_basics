{
  "nbformat": 4,
  "nbformat_minor": 0,
  "metadata": {
    "colab": {
      "provenance": []
    },
    "kernelspec": {
      "name": "python3",
      "display_name": "Python 3"
    },
    "language_info": {
      "name": "python"
    }
  },
  "cells": [
    {
      "cell_type": "code",
      "execution_count": null,
      "metadata": {
        "colab": {
          "base_uri": "https://localhost:8080/"
        },
        "id": "yw7S8MISLsGe",
        "outputId": "317838e3-3256-4dc5-aa76-10e3ce368f6a"
      },
      "outputs": [
        {
          "output_type": "stream",
          "name": "stdout",
          "text": [
            "['apple', 'banana', 'cherry']\n"
          ]
        }
      ],
      "source": [
        "#Create a list\n",
        "\n",
        "l=[\"apple\",\"banana\",\"cherry\"]\n",
        "print(l)"
      ]
    },
    {
      "cell_type": "code",
      "source": [
        "l1=[\"apple\",1,True,1.45,'c']\n",
        "l1"
      ],
      "metadata": {
        "colab": {
          "base_uri": "https://localhost:8080/"
        },
        "id": "31PKBNH_MEIQ",
        "outputId": "b5f750ad-c34c-47d0-dad3-b2d821e27a3f"
      },
      "execution_count": null,
      "outputs": [
        {
          "output_type": "execute_result",
          "data": {
            "text/plain": [
              "['apple', 1, True, 1.45, 'c']"
            ]
          },
          "metadata": {},
          "execution_count": 12
        }
      ]
    },
    {
      "cell_type": "code",
      "source": [
        "l"
      ],
      "metadata": {
        "colab": {
          "base_uri": "https://localhost:8080/"
        },
        "id": "V-Y0lhJIMTdk",
        "outputId": "13f04295-0ce9-4b41-f972-bef887f63774"
      },
      "execution_count": null,
      "outputs": [
        {
          "output_type": "execute_result",
          "data": {
            "text/plain": [
              "['apple', 'banana', 'cherry']"
            ]
          },
          "metadata": {},
          "execution_count": 3
        }
      ]
    },
    {
      "cell_type": "code",
      "source": [
        "#Accesing elements in the list --positive indexing\n",
        "\n",
        "print(l[0])\n",
        "print(l[1])\n",
        "print(l[2])"
      ],
      "metadata": {
        "colab": {
          "base_uri": "https://localhost:8080/"
        },
        "id": "y2szvvLuMcQH",
        "outputId": "44375ab6-991b-4641-c0dc-ef536d3b9243"
      },
      "execution_count": null,
      "outputs": [
        {
          "output_type": "stream",
          "name": "stdout",
          "text": [
            "apple\n",
            "banana\n",
            "cherry\n"
          ]
        }
      ]
    },
    {
      "cell_type": "code",
      "source": [
        "#Negative indexing\n",
        "\n",
        "print(l[-1])\n",
        "print(l[-2])\n",
        "print(l[-3])"
      ],
      "metadata": {
        "colab": {
          "base_uri": "https://localhost:8080/"
        },
        "id": "nkEfqcmKMgDO",
        "outputId": "47cc49c2-5b72-4688-acf3-1b17daf09ab4"
      },
      "execution_count": null,
      "outputs": [
        {
          "output_type": "stream",
          "name": "stdout",
          "text": [
            "cherry\n",
            "banana\n",
            "apple\n"
          ]
        }
      ]
    },
    {
      "cell_type": "code",
      "source": [
        "l=[1,3,4,5,6,8,10]\n",
        "#print all elements in this list using a loop and acces the first and last elements\n",
        "\n",
        "\n",
        "for i in l:\n",
        "  print(i,end = \" \")"
      ],
      "metadata": {
        "colab": {
          "base_uri": "https://localhost:8080/"
        },
        "id": "1YlIlaoNMsyS",
        "outputId": "06adeaae-254a-4a54-cef1-5308f299eb4a"
      },
      "execution_count": null,
      "outputs": [
        {
          "output_type": "stream",
          "name": "stdout",
          "text": [
            "1 3 4 5 6 8 10 "
          ]
        }
      ]
    },
    {
      "cell_type": "code",
      "source": [
        "#Length of the list\n",
        "\n",
        "#To determine how many values or items a list has - we use len() function\n",
        "\n",
        "print(len(l))"
      ],
      "metadata": {
        "colab": {
          "base_uri": "https://localhost:8080/"
        },
        "id": "ZOxAFkPXOQl2",
        "outputId": "ae57771d-b16b-4dfd-f103-3e76b052fc2c"
      },
      "execution_count": null,
      "outputs": [
        {
          "output_type": "stream",
          "name": "stdout",
          "text": [
            "7\n"
          ]
        }
      ]
    },
    {
      "cell_type": "code",
      "source": [
        "#Lists are mutuable -- after creating a  list you can change the values in the list,update them and also delete them\n",
        "\n",
        "l[0]=100\n",
        "l[3]=2\n",
        "l"
      ],
      "metadata": {
        "colab": {
          "base_uri": "https://localhost:8080/"
        },
        "id": "TcmA4k8hOZ1l",
        "outputId": "c80e3673-d67a-4b19-e990-99c1fa93081a"
      },
      "execution_count": null,
      "outputs": [
        {
          "output_type": "execute_result",
          "data": {
            "text/plain": [
              "[100, 3, 4, 2, 6, 8, 10]"
            ]
          },
          "metadata": {},
          "execution_count": 8
        }
      ]
    },
    {
      "cell_type": "code",
      "source": [
        "#delete an element from the list\n",
        "\n",
        "del l[0]\n",
        "l"
      ],
      "metadata": {
        "colab": {
          "base_uri": "https://localhost:8080/"
        },
        "id": "ixLpeUSlOwAl",
        "outputId": "9c867d2c-e39b-451c-c56e-a683ddff3228"
      },
      "execution_count": null,
      "outputs": [
        {
          "output_type": "execute_result",
          "data": {
            "text/plain": [
              "[3, 4, 2, 6, 8, 10]"
            ]
          },
          "metadata": {},
          "execution_count": 9
        }
      ]
    },
    {
      "cell_type": "code",
      "source": [
        "#check the data type\n",
        "l1=[\"apple\",1,True,1.45,'c']\n",
        "print(type(l1))\n",
        "for i in l1:\n",
        "  print(type(i))"
      ],
      "metadata": {
        "colab": {
          "base_uri": "https://localhost:8080/"
        },
        "id": "Akr9wV4wPN87",
        "outputId": "631c6198-cb26-4111-c7a0-4fb4f31b86b5"
      },
      "execution_count": null,
      "outputs": [
        {
          "output_type": "stream",
          "name": "stdout",
          "text": [
            "<class 'list'>\n",
            "<class 'str'>\n",
            "<class 'int'>\n",
            "<class 'bool'>\n",
            "<class 'float'>\n",
            "<class 'str'>\n"
          ]
        }
      ]
    },
    {
      "cell_type": "code",
      "source": [
        "#Add elements to the list\n",
        "\n",
        "l=[1,4,5,6,7,8]\n",
        "l.append(10)\n",
        "l\n",
        "\n",
        "#value will be added at the end of the list"
      ],
      "metadata": {
        "colab": {
          "base_uri": "https://localhost:8080/"
        },
        "id": "131rtt3UPV4m",
        "outputId": "112588f7-db90-4e92-c0d0-5530fe0c42db"
      },
      "execution_count": null,
      "outputs": [
        {
          "output_type": "execute_result",
          "data": {
            "text/plain": [
              "[1, 4, 5, 6, 7, 8, 10]"
            ]
          },
          "metadata": {},
          "execution_count": 16
        }
      ]
    },
    {
      "cell_type": "code",
      "source": [
        "l.insert(3,10)\n",
        "l"
      ],
      "metadata": {
        "colab": {
          "base_uri": "https://localhost:8080/"
        },
        "id": "6nX9FnrbPolU",
        "outputId": "5fb9dbd7-2937-4351-b254-416f4bb8dc59"
      },
      "execution_count": null,
      "outputs": [
        {
          "output_type": "execute_result",
          "data": {
            "text/plain": [
              "[1, 10, 4, 10, 5, 6, 7, 8, 10]"
            ]
          },
          "metadata": {},
          "execution_count": 18
        }
      ]
    },
    {
      "cell_type": "code",
      "source": [
        "\n",
        "\n",
        "#Create a list of your own and perform the following task\n",
        "\n",
        "## 1. Check the length of list\n",
        "## 2. Access the first and last elements in the list\n",
        "## 3. Check the data type\n",
        "## 4. Add 100 at the end of the list\n",
        "## 5. Add 15 at index position 3 and 25 at index position 4 and 35 at index position 0\n",
        "## 6. Check the length of the list after these opeartions\n",
        "\n",
        "\n",
        "l=[4,8,12,16,20]\n",
        "print(len(l))\n",
        "print(l[0])\n",
        "print(l[-1])\n",
        "print(type(l))\n",
        "\n",
        "l.append(100)\n",
        "print(l)\n",
        "\n",
        "#insert method\n",
        "\n",
        "l.insert(3,15)\n",
        "l.insert(4,25)\n",
        "l.insert(0,35)\n",
        "\n",
        "print(l)\n",
        "print(len(l))\n",
        "\n",
        "\n",
        "#lists are mutuable\n",
        "\n",
        "l[1]=40\n",
        "l\n",
        "\n",
        "del l[1]\n",
        "l"
      ],
      "metadata": {
        "colab": {
          "base_uri": "https://localhost:8080/"
        },
        "id": "IfFDEyk9P4Tt",
        "outputId": "d97c0090-3ee3-479e-ab74-07e0bc597121"
      },
      "execution_count": null,
      "outputs": [
        {
          "output_type": "stream",
          "name": "stdout",
          "text": [
            "5\n",
            "4\n",
            "20\n",
            "<class 'list'>\n",
            "[4, 8, 12, 16, 20, 100]\n",
            "[35, 4, 8, 12, 15, 25, 16, 20, 100]\n",
            "9\n"
          ]
        },
        {
          "output_type": "execute_result",
          "data": {
            "text/plain": [
              "[35, 8, 12, 15, 25, 16, 20, 100]"
            ]
          },
          "metadata": {},
          "execution_count": 30
        }
      ]
    },
    {
      "cell_type": "code",
      "source": [
        "#List can Handle duplicate elements\n",
        "\n",
        "l.insert(1,8)\n",
        "l"
      ],
      "metadata": {
        "colab": {
          "base_uri": "https://localhost:8080/"
        },
        "id": "mv75KX3eS_5e",
        "outputId": "778bda8c-907d-46c5-fb32-121475b5f6fb"
      },
      "execution_count": null,
      "outputs": [
        {
          "output_type": "execute_result",
          "data": {
            "text/plain": [
              "[35, 8, 8, 12, 15, 25, 16, 20, 100]"
            ]
          },
          "metadata": {},
          "execution_count": 32
        }
      ]
    },
    {
      "cell_type": "code",
      "source": [
        "set(l) #This is not allowing duplicate elements"
      ],
      "metadata": {
        "colab": {
          "base_uri": "https://localhost:8080/"
        },
        "id": "urA-BuqvUKPc",
        "outputId": "605304f0-e536-4137-c12c-50b25ae71d21"
      },
      "execution_count": null,
      "outputs": [
        {
          "output_type": "execute_result",
          "data": {
            "text/plain": [
              "{8, 12, 15, 16, 20, 25, 35, 100}"
            ]
          },
          "metadata": {},
          "execution_count": 33
        }
      ]
    },
    {
      "cell_type": "code",
      "source": [
        "#Slicing\n",
        "\n",
        "l[0:4]\n",
        "l[0:4:2]\n",
        "\n",
        "l[:6]\n",
        "l[2:]"
      ],
      "metadata": {
        "colab": {
          "base_uri": "https://localhost:8080/"
        },
        "id": "U9jYrHgxUVQZ",
        "outputId": "10a59b10-b7d2-4c54-d942-ccd32090457e"
      },
      "execution_count": null,
      "outputs": [
        {
          "output_type": "execute_result",
          "data": {
            "text/plain": [
              "[8, 12, 15, 25, 16, 20, 100]"
            ]
          },
          "metadata": {},
          "execution_count": 38
        }
      ]
    },
    {
      "cell_type": "code",
      "source": [
        "l=[1,2,3,4,5,7,8,9]\n",
        "\n",
        "#l[start:end:step]\n",
        "\n",
        "l[0:4:2]"
      ],
      "metadata": {
        "colab": {
          "base_uri": "https://localhost:8080/"
        },
        "id": "nO9iujzDFWU-",
        "outputId": "5018e1f4-f614-4405-cf7a-3c64a9985961"
      },
      "execution_count": null,
      "outputs": [
        {
          "output_type": "execute_result",
          "data": {
            "text/plain": [
              "[1, 3]"
            ]
          },
          "metadata": {},
          "execution_count": 21
        }
      ]
    },
    {
      "cell_type": "code",
      "source": [
        "l=[35, 8, 8, 12, 15, 25, 16, 20, 100,124,23,45]\n",
        "\n",
        "#ascending order\n",
        "l1=sorted(l)\n",
        "l1\n",
        "\n",
        "#descending order\n",
        "l2=sorted(l,reverse=True)\n",
        "l2"
      ],
      "metadata": {
        "colab": {
          "base_uri": "https://localhost:8080/"
        },
        "id": "HUsCxzF4Uw__",
        "outputId": "d6516d00-3cc8-4f3b-93e7-c771104835af"
      },
      "execution_count": null,
      "outputs": [
        {
          "output_type": "execute_result",
          "data": {
            "text/plain": [
              "[124, 100, 45, 35, 25, 23, 20, 16, 15, 12, 8, 8]"
            ]
          },
          "metadata": {},
          "execution_count": 23
        }
      ]
    },
    {
      "cell_type": "markdown",
      "source": [
        "#Create a list of your own and perform the following task\n",
        "\n",
        "## 1. Check the length of list\n",
        "## 2. Access the first and last elements in the list\n",
        "## 3. Check the data type\n",
        "## 4. Add 100 at the end of the list\n",
        "## 5. Add 15 at index position 2 and 25 at index position 8 and 35 at index position 1\n",
        "## 6. Check the length of the list after these opeartions\n",
        "\n",
        "#7 Arrange them in asecnding order and store it in other list and do the same for desending order"
      ],
      "metadata": {
        "id": "Y9QCim-RsXC-"
      }
    },
    {
      "cell_type": "code",
      "source": [
        "l=[35,48,47,33,1,2,3,4,8,10,9,67,34,60,75,46,3,4,10,15]\n",
        "print(len(l))\n",
        "print(l[0]) #First element\n",
        "print(l[-1]) #last element\n",
        "print(type(l))\n",
        "\n",
        "#add 100 to the end of the list\n",
        "\n",
        "l.append(100)\n",
        "print(l)\n",
        "\n",
        "#insert\n",
        "\n",
        "l.insert(2,15)\n",
        "l.insert(8,25)\n",
        "l.insert(1,35)\n",
        "\n",
        "print(l)\n",
        "print(len(l))\n",
        "\n",
        "\n",
        "#sorting\n",
        "\n",
        "l1=sorted(l,reverse=False) #ascending order\n",
        "print(l1)\n",
        "\n",
        "l2=sorted(l,reverse=True) #descending Order\n",
        "print(l2)"
      ],
      "metadata": {
        "colab": {
          "base_uri": "https://localhost:8080/"
        },
        "id": "LXxTABPNsXhK",
        "outputId": "a810a781-a9f2-47c5-aecf-ab53f1be15d4"
      },
      "execution_count": null,
      "outputs": [
        {
          "output_type": "stream",
          "name": "stdout",
          "text": [
            "20\n",
            "35\n",
            "15\n",
            "<class 'list'>\n",
            "[35, 48, 47, 33, 1, 2, 3, 4, 8, 10, 9, 67, 34, 60, 75, 46, 3, 4, 10, 15, 100]\n",
            "[35, 35, 48, 15, 47, 33, 1, 2, 3, 25, 4, 8, 10, 9, 67, 34, 60, 75, 46, 3, 4, 10, 15, 100]\n",
            "24\n",
            "[1, 2, 3, 3, 4, 4, 8, 9, 10, 10, 15, 15, 25, 33, 34, 35, 35, 46, 47, 48, 60, 67, 75, 100]\n",
            "[100, 75, 67, 60, 48, 47, 46, 35, 35, 34, 33, 25, 15, 15, 10, 10, 9, 8, 4, 4, 3, 3, 2, 1]\n"
          ]
        }
      ]
    },
    {
      "cell_type": "markdown",
      "source": [
        "#List methods\n"
      ],
      "metadata": {
        "id": "X4I2H8OVuE31"
      }
    },
    {
      "cell_type": "code",
      "source": [
        "#Append : Adds an element at the end of the list\n",
        "\n",
        "l=[1,2,3,4,5,6]\n",
        "l.append(7)\n",
        "print(l)"
      ],
      "metadata": {
        "colab": {
          "base_uri": "https://localhost:8080/"
        },
        "id": "WsHGg8HEsmoT",
        "outputId": "f2749cf6-3fb2-4db3-f2cb-b3b48d094754"
      },
      "execution_count": null,
      "outputs": [
        {
          "output_type": "stream",
          "name": "stdout",
          "text": [
            "[1, 2, 3, 4, 5, 6, 7]\n"
          ]
        }
      ]
    },
    {
      "cell_type": "code",
      "source": [
        "#Clear : Removes all elements from the list\n",
        "l=[1,4,5]\n",
        "l.clear()\n",
        "print(l)"
      ],
      "metadata": {
        "colab": {
          "base_uri": "https://localhost:8080/"
        },
        "id": "RP113GDYuPOJ",
        "outputId": "438872d5-a70e-4801-df80-9ad98afc6fae"
      },
      "execution_count": null,
      "outputs": [
        {
          "output_type": "stream",
          "name": "stdout",
          "text": [
            "[]\n"
          ]
        }
      ]
    },
    {
      "cell_type": "code",
      "source": [
        "#copy : returns a copy of the list\n",
        "\n",
        "l=[1,2,3,4,5]\n",
        "\n",
        "l1=l.copy()\n",
        "print(l1)\n",
        "print(l)\n"
      ],
      "metadata": {
        "colab": {
          "base_uri": "https://localhost:8080/"
        },
        "id": "QTxIM35suYIf",
        "outputId": "e809aa24-0af9-4597-f708-ba45f1b1ab05"
      },
      "execution_count": null,
      "outputs": [
        {
          "output_type": "stream",
          "name": "stdout",
          "text": [
            "[1, 2, 3, 4, 5]\n",
            "[1, 2, 3, 4, 5]\n"
          ]
        }
      ]
    },
    {
      "cell_type": "code",
      "source": [
        "#count : Returns the number of elements with the specificed value\n",
        "\n",
        "l2=[2,2,3,4,5,5,6,6,6]\n",
        "\n",
        "\n",
        "\n",
        "#Find out the count of each and every element in the list\n",
        "\n",
        "for i in l2:\n",
        "  print(i,l2.count(i))\n"
      ],
      "metadata": {
        "colab": {
          "base_uri": "https://localhost:8080/"
        },
        "id": "ucWX7XEEulti",
        "outputId": "201f2ced-0b18-4d33-df4e-6323ef5dac2e"
      },
      "execution_count": null,
      "outputs": [
        {
          "output_type": "stream",
          "name": "stdout",
          "text": [
            "2 2\n",
            "2 2\n",
            "3 1\n",
            "4 1\n",
            "5 2\n",
            "5 2\n",
            "6 3\n",
            "6 3\n",
            "6 3\n"
          ]
        }
      ]
    },
    {
      "cell_type": "code",
      "source": [
        "#Reverse :\n",
        "\n",
        "l2=[2,2,3,4,5,5,6,6,6]\n",
        "l2.reverse()\n",
        "## other way:\n",
        "\n",
        "l3=l2[::-1]\n",
        "print(l3)\n",
        "\n"
      ],
      "metadata": {
        "colab": {
          "base_uri": "https://localhost:8080/"
        },
        "id": "d6yo6ItvvmAt",
        "outputId": "ab482b85-dda8-4705-e583-9ee13689ab6d"
      },
      "execution_count": null,
      "outputs": [
        {
          "output_type": "stream",
          "name": "stdout",
          "text": [
            "[2, 2, 3, 4, 5, 5, 6, 6, 6]\n"
          ]
        }
      ]
    },
    {
      "cell_type": "code",
      "source": [
        "#index : returns the index of the first element with the specified value\n",
        "\n",
        "l2=[4,5,2,2,2,2]\n",
        "l2.index(2)"
      ],
      "metadata": {
        "colab": {
          "base_uri": "https://localhost:8080/"
        },
        "id": "jkkgpSGeyrUB",
        "outputId": "1f212f57-cc63-49c6-96f7-d8b96a8d5a29"
      },
      "execution_count": null,
      "outputs": [
        {
          "output_type": "execute_result",
          "data": {
            "text/plain": [
              "2"
            ]
          },
          "metadata": {},
          "execution_count": 34
        }
      ]
    },
    {
      "cell_type": "code",
      "source": [
        "#Pop : removes the element at the specified position\n",
        "\n",
        "\n",
        "l2.pop(3)\n",
        "l2"
      ],
      "metadata": {
        "colab": {
          "base_uri": "https://localhost:8080/"
        },
        "id": "9lwzNvvMzA6N",
        "outputId": "5cf8877e-6bca-42d8-faba-1b304959ab5b"
      },
      "execution_count": null,
      "outputs": [
        {
          "output_type": "execute_result",
          "data": {
            "text/plain": [
              "[2, 2, 3, 5, 5, 6, 6, 6]"
            ]
          },
          "metadata": {},
          "execution_count": 33
        }
      ]
    },
    {
      "cell_type": "markdown",
      "source": [
        "#When u need to add a specific element at a particular index position you need to use insert method and if u want to remove a specific element at a particular position then u need to use pop method\n"
      ],
      "metadata": {
        "id": "zLppbyfKztqt"
      }
    },
    {
      "cell_type": "code",
      "source": [
        "#List comprehension\n",
        "\n",
        "\n",
        "l=[1,2,3,4,5,6,7,8,9,10]\n",
        "\n",
        "for i in l:\n",
        "  if i%2==0:\n",
        "    print(i)"
      ],
      "metadata": {
        "id": "wbzFAro_zsmK",
        "colab": {
          "base_uri": "https://localhost:8080/"
        },
        "outputId": "f3ba2b91-5be3-4699-e8ea-fcc59e556f13"
      },
      "execution_count": null,
      "outputs": [
        {
          "output_type": "stream",
          "name": "stdout",
          "text": [
            "2\n",
            "4\n",
            "6\n",
            "8\n",
            "10\n"
          ]
        }
      ]
    },
    {
      "cell_type": "code",
      "source": [
        "l1=[x for x in l if x%5==0]\n",
        "l1\n",
        "\n",
        "\n"
      ],
      "metadata": {
        "colab": {
          "base_uri": "https://localhost:8080/"
        },
        "id": "fdP5yvSKWVMb",
        "outputId": "c1d7790d-7185-4c2e-8ba9-e537c33810f3"
      },
      "execution_count": null,
      "outputs": [
        {
          "output_type": "execute_result",
          "data": {
            "text/plain": [
              "[5, 10]"
            ]
          },
          "metadata": {},
          "execution_count": 37
        }
      ]
    },
    {
      "cell_type": "code",
      "source": [
        "l2=[x for x in l if x%5==0]\n",
        "l2"
      ],
      "metadata": {
        "colab": {
          "base_uri": "https://localhost:8080/"
        },
        "id": "nf-ZQfzMWhax",
        "outputId": "12647404-c925-438d-df7c-2711ba356fd0"
      },
      "execution_count": null,
      "outputs": [
        {
          "output_type": "execute_result",
          "data": {
            "text/plain": [
              "[5]"
            ]
          },
          "metadata": {},
          "execution_count": 43
        }
      ]
    },
    {
      "cell_type": "code",
      "source": [
        "l=[2,8,10,16,22]\n",
        "\n",
        "#Print composite numbers only using list comprehension"
      ],
      "metadata": {
        "id": "jOYTK9hMWuUF"
      },
      "execution_count": null,
      "outputs": []
    },
    {
      "cell_type": "code",
      "source": [
        "#Find squares of the numbers using list comprehension method\n",
        "\n",
        "l=[1,2,3,4,5]\n",
        "\n",
        "for i in l:\n",
        "  print(i**2)\n",
        "\n"
      ],
      "metadata": {
        "colab": {
          "base_uri": "https://localhost:8080/"
        },
        "id": "gQhnMI9ZXAms",
        "outputId": "ec0aa032-9753-41fb-cbdd-21c0c15e5202"
      },
      "execution_count": null,
      "outputs": [
        {
          "output_type": "stream",
          "name": "stdout",
          "text": [
            "1\n",
            "4\n",
            "9\n",
            "16\n",
            "25\n"
          ]
        }
      ]
    },
    {
      "cell_type": "code",
      "source": [
        "l1=[i**2 for i in l]\n",
        "l1"
      ],
      "metadata": {
        "colab": {
          "base_uri": "https://localhost:8080/"
        },
        "id": "GHc7lW0SYQc7",
        "outputId": "35765e32-98ac-4cd9-e36c-36fe67a03fa9"
      },
      "execution_count": null,
      "outputs": [
        {
          "output_type": "execute_result",
          "data": {
            "text/plain": [
              "[1, 4, 9, 16, 25]"
            ]
          },
          "metadata": {},
          "execution_count": 40
        }
      ]
    },
    {
      "cell_type": "code",
      "source": [
        "n=20\n",
        "\n",
        "if n%2!=0:\n",
        "  print('weird')\n",
        "\n",
        "elif n%2==0 and n in range(2,6):\n",
        "  print('not weird')\n",
        "elif n%2==0 and n in range(6,21):\n",
        "  print('weird')"
      ],
      "metadata": {
        "id": "V7_XnaaKYZHv",
        "colab": {
          "base_uri": "https://localhost:8080/"
        },
        "outputId": "3c86b3d3-ba42-43d2-f471-05ff108621c8"
      },
      "execution_count": null,
      "outputs": [
        {
          "output_type": "stream",
          "name": "stdout",
          "text": [
            "weird\n"
          ]
        }
      ]
    },
    {
      "cell_type": "code",
      "source": [],
      "metadata": {
        "id": "w9o92rn6KXJl"
      },
      "execution_count": null,
      "outputs": []
    }
  ]
}